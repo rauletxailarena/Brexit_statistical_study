{
 "cells": [
  {
   "cell_type": "code",
   "execution_count": 87,
   "metadata": {
    "collapsed": true,
    "run_control": {
     "read_only": false
    }
   },
   "outputs": [],
   "source": [
    "import pymongo\n",
    "import datetime\n",
    "import collections\n",
    "\n",
    "import matplotlib as mpl\n",
    "import matplotlib.pyplot as plt\n",
    "%matplotlib inline\n",
    "\n",
    "import numpy as np\n",
    "import pandas as pd\n",
    "import scipy.stats\n",
    "from collections import Counter\n",
    "from sklearn import cluster"
   ]
  },
  {
   "cell_type": "code",
   "execution_count": 88,
   "metadata": {
    "collapsed": false,
    "run_control": {
     "read_only": false
    }
   },
   "outputs": [
    {
     "data": {
      "text/html": [
       "<div>\n",
       "<table border=\"1\" class=\"dataframe\">\n",
       "  <thead>\n",
       "    <tr style=\"text-align: right;\">\n",
       "      <th></th>\n",
       "      <th>Area_Code</th>\n",
       "      <th>Area_x</th>\n",
       "      <th>country</th>\n",
       "      <th>population_2001</th>\n",
       "      <th>births_2002</th>\n",
       "      <th>deaths_2002</th>\n",
       "      <th>natchange_2002</th>\n",
       "      <th>internal_in_2002</th>\n",
       "      <th>internal_out_2002</th>\n",
       "      <th>internal_net_2002</th>\n",
       "      <th>...</th>\n",
       "      <th>Remain</th>\n",
       "      <th>Leave</th>\n",
       "      <th>Rejected_Ballots</th>\n",
       "      <th>No_official_mark</th>\n",
       "      <th>Voting_for_both_answers</th>\n",
       "      <th>Writing_or_mark</th>\n",
       "      <th>Unmarked_or_void</th>\n",
       "      <th>Pct_Remain</th>\n",
       "      <th>Pct_Leave</th>\n",
       "      <th>Pct_Rejected</th>\n",
       "    </tr>\n",
       "  </thead>\n",
       "  <tbody>\n",
       "    <tr>\n",
       "      <th>0</th>\n",
       "      <td>E06000001</td>\n",
       "      <td>Hartlepool</td>\n",
       "      <td>E</td>\n",
       "      <td>90152</td>\n",
       "      <td>1017</td>\n",
       "      <td>1042</td>\n",
       "      <td>-25</td>\n",
       "      <td>2140</td>\n",
       "      <td>2301</td>\n",
       "      <td>-161</td>\n",
       "      <td>...</td>\n",
       "      <td>14029</td>\n",
       "      <td>32071</td>\n",
       "      <td>34</td>\n",
       "      <td>0</td>\n",
       "      <td>12</td>\n",
       "      <td>6</td>\n",
       "      <td>16</td>\n",
       "      <td>30.43</td>\n",
       "      <td>69.57</td>\n",
       "      <td>0.07</td>\n",
       "    </tr>\n",
       "    <tr>\n",
       "      <th>1</th>\n",
       "      <td>E06000002</td>\n",
       "      <td>Middlesbrough</td>\n",
       "      <td>E</td>\n",
       "      <td>141233</td>\n",
       "      <td>1663</td>\n",
       "      <td>1396</td>\n",
       "      <td>267</td>\n",
       "      <td>5109</td>\n",
       "      <td>6737</td>\n",
       "      <td>-1628</td>\n",
       "      <td>...</td>\n",
       "      <td>21181</td>\n",
       "      <td>40177</td>\n",
       "      <td>35</td>\n",
       "      <td>0</td>\n",
       "      <td>16</td>\n",
       "      <td>1</td>\n",
       "      <td>18</td>\n",
       "      <td>34.52</td>\n",
       "      <td>65.48</td>\n",
       "      <td>0.06</td>\n",
       "    </tr>\n",
       "    <tr>\n",
       "      <th>2</th>\n",
       "      <td>E06000003</td>\n",
       "      <td>Redcar and Cleveland</td>\n",
       "      <td>E</td>\n",
       "      <td>139159</td>\n",
       "      <td>1336</td>\n",
       "      <td>1523</td>\n",
       "      <td>-187</td>\n",
       "      <td>3951</td>\n",
       "      <td>4259</td>\n",
       "      <td>-308</td>\n",
       "      <td>...</td>\n",
       "      <td>24586</td>\n",
       "      <td>48128</td>\n",
       "      <td>27</td>\n",
       "      <td>0</td>\n",
       "      <td>6</td>\n",
       "      <td>0</td>\n",
       "      <td>21</td>\n",
       "      <td>33.81</td>\n",
       "      <td>66.19</td>\n",
       "      <td>0.04</td>\n",
       "    </tr>\n",
       "    <tr>\n",
       "      <th>3</th>\n",
       "      <td>E06000004</td>\n",
       "      <td>Stockton-on-Tees</td>\n",
       "      <td>E</td>\n",
       "      <td>183795</td>\n",
       "      <td>1938</td>\n",
       "      <td>1719</td>\n",
       "      <td>219</td>\n",
       "      <td>6269</td>\n",
       "      <td>5531</td>\n",
       "      <td>738</td>\n",
       "      <td>...</td>\n",
       "      <td>38433</td>\n",
       "      <td>61982</td>\n",
       "      <td>45</td>\n",
       "      <td>2</td>\n",
       "      <td>13</td>\n",
       "      <td>2</td>\n",
       "      <td>28</td>\n",
       "      <td>38.27</td>\n",
       "      <td>61.73</td>\n",
       "      <td>0.04</td>\n",
       "    </tr>\n",
       "    <tr>\n",
       "      <th>4</th>\n",
       "      <td>E06000005</td>\n",
       "      <td>Darlington</td>\n",
       "      <td>E</td>\n",
       "      <td>97894</td>\n",
       "      <td>1102</td>\n",
       "      <td>1173</td>\n",
       "      <td>-71</td>\n",
       "      <td>3815</td>\n",
       "      <td>3521</td>\n",
       "      <td>294</td>\n",
       "      <td>...</td>\n",
       "      <td>24172</td>\n",
       "      <td>30994</td>\n",
       "      <td>29</td>\n",
       "      <td>0</td>\n",
       "      <td>0</td>\n",
       "      <td>0</td>\n",
       "      <td>29</td>\n",
       "      <td>43.82</td>\n",
       "      <td>56.18</td>\n",
       "      <td>0.05</td>\n",
       "    </tr>\n",
       "  </tbody>\n",
       "</table>\n",
       "<p>5 rows × 181 columns</p>\n",
       "</div>"
      ],
      "text/plain": [
       "   Area_Code                Area_x country  population_2001  births_2002  \\\n",
       "0  E06000001            Hartlepool       E            90152         1017   \n",
       "1  E06000002         Middlesbrough       E           141233         1663   \n",
       "2  E06000003  Redcar and Cleveland       E           139159         1336   \n",
       "3  E06000004      Stockton-on-Tees       E           183795         1938   \n",
       "4  E06000005            Darlington       E            97894         1102   \n",
       "\n",
       "   deaths_2002  natchange_2002  internal_in_2002  internal_out_2002  \\\n",
       "0         1042             -25              2140               2301   \n",
       "1         1396             267              5109               6737   \n",
       "2         1523            -187              3951               4259   \n",
       "3         1719             219              6269               5531   \n",
       "4         1173             -71              3815               3521   \n",
       "\n",
       "   internal_net_2002      ...       Remain  Leave  Rejected_Ballots  \\\n",
       "0               -161      ...        14029  32071                34   \n",
       "1              -1628      ...        21181  40177                35   \n",
       "2               -308      ...        24586  48128                27   \n",
       "3                738      ...        38433  61982                45   \n",
       "4                294      ...        24172  30994                29   \n",
       "\n",
       "   No_official_mark  Voting_for_both_answers  Writing_or_mark  \\\n",
       "0                 0                       12                6   \n",
       "1                 0                       16                1   \n",
       "2                 0                        6                0   \n",
       "3                 2                       13                2   \n",
       "4                 0                        0                0   \n",
       "\n",
       "   Unmarked_or_void  Pct_Remain  Pct_Leave  Pct_Rejected  \n",
       "0                16       30.43      69.57          0.07  \n",
       "1                18       34.52      65.48          0.06  \n",
       "2                21       33.81      66.19          0.04  \n",
       "3                28       38.27      61.73          0.04  \n",
       "4                29       43.82      56.18          0.05  \n",
       "\n",
       "[5 rows x 181 columns]"
      ]
     },
     "execution_count": 88,
     "metadata": {},
     "output_type": "execute_result"
    }
   ],
   "source": [
    "#immigration_referendum_df = pd.read_csv(\"data/immigration_referendum_df.csv\",index_col=\"Unnamed: 0\")\n",
    "immigration_referendum_df = pd.read_csv(\"data/immigration_referendum_df.csv\",index_col=\"Unnamed: 0\")\n",
    "immigration_referendum_df.head()"
   ]
  },
  {
   "cell_type": "markdown",
   "metadata": {},
   "source": [
    "# Exploration on clustering (on international incoming immigration)"
   ]
  },
  {
   "cell_type": "code",
   "execution_count": 89,
   "metadata": {
    "collapsed": false,
    "run_control": {
     "read_only": false
    }
   },
   "outputs": [
    {
     "data": {
      "text/html": [
       "<div>\n",
       "<table border=\"1\" class=\"dataframe\">\n",
       "  <thead>\n",
       "    <tr style=\"text-align: right;\">\n",
       "      <th></th>\n",
       "      <th>Pct_Leave</th>\n",
       "      <th>international_in_total</th>\n",
       "    </tr>\n",
       "  </thead>\n",
       "  <tbody>\n",
       "    <tr>\n",
       "      <th>0</th>\n",
       "      <td>69.57</td>\n",
       "      <td>2524</td>\n",
       "    </tr>\n",
       "    <tr>\n",
       "      <th>1</th>\n",
       "      <td>65.48</td>\n",
       "      <td>15883</td>\n",
       "    </tr>\n",
       "    <tr>\n",
       "      <th>2</th>\n",
       "      <td>66.19</td>\n",
       "      <td>3501</td>\n",
       "    </tr>\n",
       "    <tr>\n",
       "      <th>3</th>\n",
       "      <td>61.73</td>\n",
       "      <td>9454</td>\n",
       "    </tr>\n",
       "    <tr>\n",
       "      <th>4</th>\n",
       "      <td>56.18</td>\n",
       "      <td>4671</td>\n",
       "    </tr>\n",
       "  </tbody>\n",
       "</table>\n",
       "</div>"
      ],
      "text/plain": [
       "   Pct_Leave  international_in_total\n",
       "0      69.57                    2524\n",
       "1      65.48                   15883\n",
       "2      66.19                    3501\n",
       "3      61.73                    9454\n",
       "4      56.18                    4671"
      ]
     },
     "execution_count": 89,
     "metadata": {},
     "output_type": "execute_result"
    }
   ],
   "source": [
    "kmeans2 = cluster.KMeans(n_clusters=2)\n",
    "clustering_data_df=immigration_referendum_df[['Pct_Leave','international_in_total']]\n",
    "clustering_data_df.head()"
   ]
  },
  {
   "cell_type": "code",
   "execution_count": 90,
   "metadata": {
    "collapsed": true,
    "run_control": {
     "read_only": false
    }
   },
   "outputs": [],
   "source": [
    "assignedClusters_clust = kmeans2.fit(clustering_data_df)"
   ]
  },
  {
   "cell_type": "code",
   "execution_count": 91,
   "metadata": {
    "collapsed": false,
    "run_control": {
     "read_only": false
    }
   },
   "outputs": [
    {
     "data": {
      "text/plain": [
       "[]"
      ]
     },
     "execution_count": 91,
     "metadata": {},
     "output_type": "execute_result"
    },
    {
     "data": {
      "image/png": "[encoded data removed]",
      "text/plain": [
       "<matplotlib.figure.Figure at 0xae442b4c>"
      ]
     },
     "metadata": {},
     "output_type": "display_data"
    }
   ],
   "source": [
    "# Plot the data points which in the cluster labelled '0'\n",
    "\n",
    "plt.scatter(immigration_referendum_df['Pct_Leave'][assignedClusters_clust.labels_==0],\n",
    "            immigration_referendum_df['international_in_total'][assignedClusters_clust.labels_==0],\n",
    "            color='red', marker='o', label='cluster 0')\n",
    "\n",
    "# Plot the data points which in the cluster labelled '1'\n",
    "plt.scatter(immigration_referendum_df['Pct_Leave'][assignedClusters_clust.labels_==1],\n",
    "            immigration_referendum_df['international_in_total'][assignedClusters_clust.labels_==1],\n",
    "            color='blue', marker='o', label='cluster 1')\n",
    "\n",
    "plt.legend()\n",
    "\n",
    "plt.xlabel('Pct_Leave')\n",
    "plt.ylabel('international_in_total')\n",
    "\n",
    "plt.title('2-means Clustering international in total VS Pct_leave')\n",
    "\n",
    "plt.grid(True)\n",
    "plt.plot()"
   ]
  },
  {
   "cell_type": "code",
   "execution_count": 92,
   "metadata": {
    "collapsed": false,
    "run_control": {
     "read_only": false
    }
   },
   "outputs": [],
   "source": [
    "immigration_referendum_df[\"Cluster\"] = assignedClusters_clust.labels_\n",
    "immigration_cluster0 = immigration_referendum_df[immigration_referendum_df[\"Cluster\"] == 0]\n",
    "immigration_cluster1 = immigration_referendum_df[immigration_referendum_df[\"Cluster\"] == 1]"
   ]
  },
  {
   "cell_type": "code",
   "execution_count": 93,
   "metadata": {
    "collapsed": true,
    "run_control": {
     "read_only": false
    }
   },
   "outputs": [],
   "source": [
    "immigration_referendum_df.to_csv(\"data/anotated_immigration_in_referendum_df.csv\")"
   ]
  },
  {
   "cell_type": "code",
   "execution_count": 94,
   "metadata": {
    "collapsed": false,
    "run_control": {
     "read_only": false
    }
   },
   "outputs": [
    {
     "data": {
      "text/plain": [
       "count    335.000000\n",
       "mean      55.015612\n",
       "std        8.877142\n",
       "min       24.710000\n",
       "25%       50.495000\n",
       "50%       55.680000\n",
       "75%       61.085000\n",
       "max       75.560000\n",
       "Name: Pct_Leave, dtype: float64"
      ]
     },
     "execution_count": 94,
     "metadata": {},
     "output_type": "execute_result"
    }
   ],
   "source": [
    "immigration_cluster0[\"Pct_Leave\"].describe()"
   ]
  },
  {
   "cell_type": "code",
   "execution_count": 95,
   "metadata": {
    "collapsed": false,
    "run_control": {
     "read_only": false
    }
   },
   "outputs": [
    {
     "data": {
      "text/plain": [
       "count    46.000000\n",
       "mean     39.293043\n",
       "std      10.409673\n",
       "min      21.380000\n",
       "25%      30.362500\n",
       "50%      39.810000\n",
       "75%      48.480000\n",
       "max      56.550000\n",
       "Name: Pct_Leave, dtype: float64"
      ]
     },
     "execution_count": 95,
     "metadata": {},
     "output_type": "execute_result"
    }
   ],
   "source": [
    "immigration_cluster1[\"Pct_Leave\"].describe()"
   ]
  },
  {
   "cell_type": "markdown",
   "metadata": {
    "collapsed": true,
    "run_control": {
     "read_only": false
    }
   },
   "source": [
    "# Exploration on clustering (on international net immigration)\n"
   ]
  },
  {
   "cell_type": "code",
   "execution_count": 96,
   "metadata": {
    "collapsed": false,
    "run_control": {
     "read_only": false
    }
   },
   "outputs": [
    {
     "data": {
      "text/html": [
       "<div>\n",
       "<table border=\"1\" class=\"dataframe\">\n",
       "  <thead>\n",
       "    <tr style=\"text-align: right;\">\n",
       "      <th></th>\n",
       "      <th>Pct_Leave</th>\n",
       "      <th>international_net_total</th>\n",
       "    </tr>\n",
       "  </thead>\n",
       "  <tbody>\n",
       "    <tr>\n",
       "      <th>0</th>\n",
       "      <td>69.57</td>\n",
       "      <td>546</td>\n",
       "    </tr>\n",
       "    <tr>\n",
       "      <th>1</th>\n",
       "      <td>65.48</td>\n",
       "      <td>8376</td>\n",
       "    </tr>\n",
       "    <tr>\n",
       "      <th>2</th>\n",
       "      <td>66.19</td>\n",
       "      <td>40</td>\n",
       "    </tr>\n",
       "    <tr>\n",
       "      <th>3</th>\n",
       "      <td>61.73</td>\n",
       "      <td>1953</td>\n",
       "    </tr>\n",
       "    <tr>\n",
       "      <th>4</th>\n",
       "      <td>56.18</td>\n",
       "      <td>304</td>\n",
       "    </tr>\n",
       "  </tbody>\n",
       "</table>\n",
       "</div>"
      ],
      "text/plain": [
       "   Pct_Leave  international_net_total\n",
       "0      69.57                      546\n",
       "1      65.48                     8376\n",
       "2      66.19                       40\n",
       "3      61.73                     1953\n",
       "4      56.18                      304"
      ]
     },
     "execution_count": 96,
     "metadata": {},
     "output_type": "execute_result"
    }
   ],
   "source": [
    "kmeans2 = cluster.KMeans(n_clusters=2)\n",
    "clustering_data_df=immigration_referendum_df[['Pct_Leave','international_net_total']]\n",
    "clustering_data_df.head()"
   ]
  },
  {
   "cell_type": "code",
   "execution_count": 97,
   "metadata": {
    "collapsed": true,
    "run_control": {
     "read_only": false
    }
   },
   "outputs": [],
   "source": [
    "assignedClusters_clust = kmeans2.fit(clustering_data_df)"
   ]
  },
  {
   "cell_type": "code",
   "execution_count": 98,
   "metadata": {
    "collapsed": false,
    "run_control": {
     "read_only": false
    }
   },
   "outputs": [
    {
     "data": {
      "text/plain": [
       "[]"
      ]
     },
     "execution_count": 98,
     "metadata": {},
     "output_type": "execute_result"
    },
    {
     "data": {
      "image/png": "[encoded data removed]",
      "text/plain": [
       "<matplotlib.figure.Figure at 0xae2def2c>"
      ]
     },
     "metadata": {},
     "output_type": "display_data"
    }
   ],
   "source": [
    "# Plot the data points which in the cluster labelled '0'\n",
    "\n",
    "plt.scatter(immigration_referendum_df['Pct_Leave'][assignedClusters_clust.labels_==0],\n",
    "            immigration_referendum_df['international_net_total'][assignedClusters_clust.labels_==0],\n",
    "            color='red', marker='o', label='cluster 0')\n",
    "\n",
    "# Plot the data points which in the cluster labelled '1'\n",
    "plt.scatter(immigration_referendum_df['Pct_Leave'][assignedClusters_clust.labels_==1],\n",
    "            immigration_referendum_df['international_net_total'][assignedClusters_clust.labels_==1],\n",
    "            color='blue', marker='o', label='cluster 1')\n",
    "\n",
    "plt.legend()\n",
    "\n",
    "plt.xlabel('% leave votes')\n",
    "plt.ylabel('International net total')\n",
    "\n",
    "plt.title('2-means Clustering international net total against % leave votes')\n",
    "\n",
    "plt.grid(True)\n",
    "\n",
    "plt.plot()"
   ]
  },
  {
   "cell_type": "markdown",
   "metadata": {},
   "source": [
    "The previous plot seems to indicate a huge difference between districts with over and under 20000 net immigration figures over the last decade. It's worth to investigate further."
   ]
  },
  {
   "cell_type": "code",
   "execution_count": 99,
   "metadata": {
    "collapsed": false,
    "run_control": {
     "read_only": false
    }
   },
   "outputs": [],
   "source": [
    "immigration_referendum_df[\"Cluster\"] = assignedClusters_clust.labels_\n",
    "immigration_cluster0 = immigration_referendum_df[immigration_referendum_df[\"Cluster\"] == 0]\n",
    "immigration_cluster1 = immigration_referendum_df[immigration_referendum_df[\"Cluster\"] == 1]"
   ]
  },
  {
   "cell_type": "code",
   "execution_count": 100,
   "metadata": {
    "collapsed": false,
    "run_control": {
     "read_only": false
    }
   },
   "outputs": [
    {
     "data": {
      "text/plain": [
       "count    338.000000\n",
       "mean      54.592544\n",
       "std        9.372491\n",
       "min       24.710000\n",
       "25%       49.970000\n",
       "50%       55.285000\n",
       "75%       60.957500\n",
       "max       75.560000\n",
       "Name: Pct_Leave, dtype: float64"
      ]
     },
     "execution_count": 100,
     "metadata": {},
     "output_type": "execute_result"
    }
   ],
   "source": [
    "immigration_cluster0[\"Pct_Leave\"].describe()"
   ]
  },
  {
   "cell_type": "code",
   "execution_count": 101,
   "metadata": {
    "collapsed": false,
    "run_control": {
     "read_only": false
    }
   },
   "outputs": [
    {
     "data": {
      "text/plain": [
       "count    43.000000\n",
       "mean     41.521628\n",
       "std      10.991644\n",
       "min      21.380000\n",
       "25%      32.975000\n",
       "50%      41.810000\n",
       "75%      49.495000\n",
       "max      62.440000\n",
       "Name: Pct_Leave, dtype: float64"
      ]
     },
     "execution_count": 101,
     "metadata": {},
     "output_type": "execute_result"
    }
   ],
   "source": [
    "immigration_cluster1[\"Pct_Leave\"].describe()"
   ]
  },
  {
   "cell_type": "code",
   "execution_count": 102,
   "metadata": {
    "collapsed": true,
    "run_control": {
     "read_only": false
    }
   },
   "outputs": [],
   "source": [
    "# immigration_referendum_df.to_csv(\"data/anotated_immigration_net_referendum_df.csv\")"
   ]
  },
  {
   "cell_type": "markdown",
   "metadata": {
    "collapsed": true,
    "run_control": {
     "read_only": false
    }
   },
   "source": [
    "# Exploration on clustering (on international net immigration and 3 clusters)\n"
   ]
  },
  {
   "cell_type": "code",
   "execution_count": 103,
   "metadata": {
    "collapsed": false,
    "run_control": {
     "read_only": false
    }
   },
   "outputs": [
    {
     "data": {
      "text/html": [
       "<div>\n",
       "<table border=\"1\" class=\"dataframe\">\n",
       "  <thead>\n",
       "    <tr style=\"text-align: right;\">\n",
       "      <th></th>\n",
       "      <th>Pct_Leave</th>\n",
       "      <th>international_net_total</th>\n",
       "    </tr>\n",
       "  </thead>\n",
       "  <tbody>\n",
       "    <tr>\n",
       "      <th>0</th>\n",
       "      <td>69.57</td>\n",
       "      <td>546</td>\n",
       "    </tr>\n",
       "    <tr>\n",
       "      <th>1</th>\n",
       "      <td>65.48</td>\n",
       "      <td>8376</td>\n",
       "    </tr>\n",
       "    <tr>\n",
       "      <th>2</th>\n",
       "      <td>66.19</td>\n",
       "      <td>40</td>\n",
       "    </tr>\n",
       "    <tr>\n",
       "      <th>3</th>\n",
       "      <td>61.73</td>\n",
       "      <td>1953</td>\n",
       "    </tr>\n",
       "    <tr>\n",
       "      <th>4</th>\n",
       "      <td>56.18</td>\n",
       "      <td>304</td>\n",
       "    </tr>\n",
       "  </tbody>\n",
       "</table>\n",
       "</div>"
      ],
      "text/plain": [
       "   Pct_Leave  international_net_total\n",
       "0      69.57                      546\n",
       "1      65.48                     8376\n",
       "2      66.19                       40\n",
       "3      61.73                     1953\n",
       "4      56.18                      304"
      ]
     },
     "execution_count": 103,
     "metadata": {},
     "output_type": "execute_result"
    }
   ],
   "source": [
    "kmeans3 = cluster.KMeans(n_clusters=3)\n",
    "clustering_data_df=immigration_referendum_df[['Pct_Leave','international_net_total']]\n",
    "clustering_data_df.head()"
   ]
  },
  {
   "cell_type": "code",
   "execution_count": 104,
   "metadata": {
    "collapsed": true,
    "run_control": {
     "read_only": false
    }
   },
   "outputs": [],
   "source": [
    "assignedClusters_clust = kmeans3.fit(clustering_data_df)"
   ]
  },
  {
   "cell_type": "code",
   "execution_count": 105,
   "metadata": {
    "collapsed": false,
    "run_control": {
     "read_only": false
    }
   },
   "outputs": [
    {
     "data": {
      "text/plain": [
       "[]"
      ]
     },
     "execution_count": 105,
     "metadata": {},
     "output_type": "execute_result"
    },
    {
     "data": {
      "image/png": "[encoded data removed]",
      "text/plain": [
       "<matplotlib.figure.Figure at 0xae36818c>"
      ]
     },
     "metadata": {},
     "output_type": "display_data"
    }
   ],
   "source": [
    "# Plot the data points which in the cluster labelled '0'\n",
    "\n",
    "plt.scatter(immigration_referendum_df['Pct_Leave'][assignedClusters_clust.labels_==0],\n",
    "            immigration_referendum_df['international_net_total'][assignedClusters_clust.labels_==0],\n",
    "            color='red', marker='o', label='cluster 0')\n",
    "\n",
    "# Plot the data points which in the cluster labelled '1'\n",
    "plt.scatter(immigration_referendum_df['Pct_Leave'][assignedClusters_clust.labels_==1],\n",
    "            immigration_referendum_df['international_net_total'][assignedClusters_clust.labels_==1],\n",
    "            color='blue', marker='o', label='cluster 1')\n",
    "\n",
    "# Plot the data points which in the cluster labelled '2'\n",
    "plt.scatter(immigration_referendum_df['Pct_Leave'][assignedClusters_clust.labels_==2],\n",
    "            immigration_referendum_df['international_net_total'][assignedClusters_clust.labels_==2],\n",
    "            color='green', marker='o', label='cluster 1')\n",
    "\n",
    "\n",
    "plt.legend()\n",
    "\n",
    "plt.xlabel('Pct_Leave')\n",
    "plt.ylabel('international_net_total')\n",
    "\n",
    "plt.title('3-means Clustering international net total VS Pct_leave')\n",
    "\n",
    "plt.grid(True)\n",
    "#plt.savefig(\"asf.png\")\n",
    "plt.plot()"
   ]
  },
  {
   "cell_type": "markdown",
   "metadata": {},
   "source": [
    "# Exploration on clustering (on international net immigration and 3 clusters)"
   ]
  },
  {
   "cell_type": "code",
   "execution_count": 106,
   "metadata": {
    "collapsed": false,
    "run_control": {
     "read_only": false
    }
   },
   "outputs": [
    {
     "data": {
      "text/html": [
       "<div>\n",
       "<table border=\"1\" class=\"dataframe\">\n",
       "  <thead>\n",
       "    <tr style=\"text-align: right;\">\n",
       "      <th></th>\n",
       "      <th>Pct_Leave</th>\n",
       "      <th>international_net_total</th>\n",
       "    </tr>\n",
       "  </thead>\n",
       "  <tbody>\n",
       "    <tr>\n",
       "      <th>0</th>\n",
       "      <td>69.57</td>\n",
       "      <td>546</td>\n",
       "    </tr>\n",
       "    <tr>\n",
       "      <th>1</th>\n",
       "      <td>65.48</td>\n",
       "      <td>8376</td>\n",
       "    </tr>\n",
       "    <tr>\n",
       "      <th>2</th>\n",
       "      <td>66.19</td>\n",
       "      <td>40</td>\n",
       "    </tr>\n",
       "    <tr>\n",
       "      <th>3</th>\n",
       "      <td>61.73</td>\n",
       "      <td>1953</td>\n",
       "    </tr>\n",
       "    <tr>\n",
       "      <th>4</th>\n",
       "      <td>56.18</td>\n",
       "      <td>304</td>\n",
       "    </tr>\n",
       "  </tbody>\n",
       "</table>\n",
       "</div>"
      ],
      "text/plain": [
       "   Pct_Leave  international_net_total\n",
       "0      69.57                      546\n",
       "1      65.48                     8376\n",
       "2      66.19                       40\n",
       "3      61.73                     1953\n",
       "4      56.18                      304"
      ]
     },
     "execution_count": 106,
     "metadata": {},
     "output_type": "execute_result"
    }
   ],
   "source": [
    "kmeans4 = cluster.KMeans(n_clusters=4)\n",
    "clustering_data_df=immigration_referendum_df[['Pct_Leave','international_net_total']]\n",
    "clustering_data_df.head()"
   ]
  },
  {
   "cell_type": "code",
   "execution_count": 107,
   "metadata": {
    "collapsed": true,
    "run_control": {
     "read_only": false
    }
   },
   "outputs": [],
   "source": [
    "assignedClusters_clust = kmeans4.fit(clustering_data_df)"
   ]
  },
  {
   "cell_type": "code",
   "execution_count": 108,
   "metadata": {
    "collapsed": false,
    "run_control": {
     "read_only": false
    }
   },
   "outputs": [
    {
     "data": {
      "text/plain": [
       "[]"
      ]
     },
     "execution_count": 108,
     "metadata": {},
     "output_type": "execute_result"
    },
    {
     "data": {
      "image/png": "[encoded data removed]",
      "text/plain": [
       "<matplotlib.figure.Figure at 0xae3bbf0c>"
      ]
     },
     "metadata": {},
     "output_type": "display_data"
    }
   ],
   "source": [
    "# Plot the data points which in the cluster labelled '0'\n",
    "\n",
    "plt.scatter(immigration_referendum_df['Pct_Leave'][assignedClusters_clust.labels_==0],\n",
    "            immigration_referendum_df['international_net_total'][assignedClusters_clust.labels_==0],\n",
    "            color='red', marker='o', label='cluster 0')\n",
    "\n",
    "# Plot the data points which in the cluster labelled '1'\n",
    "plt.scatter(immigration_referendum_df['Pct_Leave'][assignedClusters_clust.labels_==1],\n",
    "            immigration_referendum_df['international_net_total'][assignedClusters_clust.labels_==1],\n",
    "            color='blue', marker='o', label='cluster 1')\n",
    "\n",
    "# Plot the data points which in the cluster labelled '2'\n",
    "plt.scatter(immigration_referendum_df['Pct_Leave'][assignedClusters_clust.labels_==2],\n",
    "            immigration_referendum_df['international_net_total'][assignedClusters_clust.labels_==2],\n",
    "            color='green', marker='o', label='cluster 2')\n",
    "\n",
    "# Plot the data points which in the cluster labelled '3'\n",
    "plt.scatter(immigration_referendum_df['Pct_Leave'][assignedClusters_clust.labels_==3],\n",
    "            immigration_referendum_df['international_net_total'][assignedClusters_clust.labels_==3],\n",
    "            color='yellow', marker='o', label='cluster 3')\n",
    "\n",
    "\n",
    "plt.legend()\n",
    "\n",
    "plt.xlabel('Pct_Leave')\n",
    "plt.ylabel('international_net_total')\n",
    "\n",
    "plt.title('4-means Clustering international net total VS Pct_leave')\n",
    "\n",
    "plt.grid(True)\n",
    "\n",
    "plt.plot()"
   ]
  },
  {
   "cell_type": "code",
   "execution_count": null,
   "metadata": {
    "collapsed": true,
    "run_control": {
     "read_only": false
    }
   },
   "outputs": [],
   "source": []
  }
 ],
 "metadata": {
  "kernelspec": {
   "display_name": "Python 3",
   "language": "python",
   "name": "python3"
  },
  "language_info": {
   "codemirror_mode": {
    "name": "ipython",
    "version": 3
   },
   "file_extension": ".py",
   "mimetype": "text/x-python",
   "name": "python",
   "nbconvert_exporter": "python",
   "pygments_lexer": "ipython3",
   "version": "3.4.3"
  }
 },
 "nbformat": 4,
 "nbformat_minor": 0
}
