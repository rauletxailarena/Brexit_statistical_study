{
 "cells": [
  {
   "cell_type": "code",
   "execution_count": 26,
   "metadata": {
    "collapsed": true,
    "run_control": {
     "read_only": false
    }
   },
   "outputs": [],
   "source": [
    "import pymongo\n",
    "import datetime\n",
    "import collections\n",
    "\n",
    "import matplotlib as mpl\n",
    "import matplotlib.pyplot as plt\n",
    "%matplotlib inline\n",
    "\n",
    "import numpy as np\n",
    "import pandas as pd\n",
    "import scipy.stats\n",
    "from collections import Counter\n",
    "from sklearn import cluster"
   ]
  },
  {
   "cell_type": "markdown",
   "metadata": {},
   "source": [
    "# Initial exploration on Pearson's *R*²"
   ]
  },
  {
   "cell_type": "markdown",
   "metadata": {},
   "source": [
    "We will now perform Pearson's *R*² on our data set to see if there is any correlation between percentage of votes towards the leave option and the accumulate number of international immigrantes received in the region during the last decade."
   ]
  },
  {
   "cell_type": "code",
   "execution_count": 27,
   "metadata": {
    "collapsed": false,
    "run_control": {
     "read_only": false
    }
   },
   "outputs": [
    {
     "data": {
      "text/html": [
       "<div>\n",
       "<table border=\"1\" class=\"dataframe\">\n",
       "  <thead>\n",
       "    <tr style=\"text-align: right;\">\n",
       "      <th></th>\n",
       "      <th>Area_Code</th>\n",
       "      <th>Area_x</th>\n",
       "      <th>country</th>\n",
       "      <th>population_2001</th>\n",
       "      <th>births_2002</th>\n",
       "      <th>deaths_2002</th>\n",
       "      <th>natchange_2002</th>\n",
       "      <th>internal_in_2002</th>\n",
       "      <th>internal_out_2002</th>\n",
       "      <th>internal_net_2002</th>\n",
       "      <th>...</th>\n",
       "      <th>Remain</th>\n",
       "      <th>Leave</th>\n",
       "      <th>Rejected_Ballots</th>\n",
       "      <th>No_official_mark</th>\n",
       "      <th>Voting_for_both_answers</th>\n",
       "      <th>Writing_or_mark</th>\n",
       "      <th>Unmarked_or_void</th>\n",
       "      <th>Pct_Remain</th>\n",
       "      <th>Pct_Leave</th>\n",
       "      <th>Pct_Rejected</th>\n",
       "    </tr>\n",
       "  </thead>\n",
       "  <tbody>\n",
       "    <tr>\n",
       "      <th>0</th>\n",
       "      <td>E06000001</td>\n",
       "      <td>Hartlepool</td>\n",
       "      <td>E</td>\n",
       "      <td>90152</td>\n",
       "      <td>1017</td>\n",
       "      <td>1042</td>\n",
       "      <td>-25</td>\n",
       "      <td>2140</td>\n",
       "      <td>2301</td>\n",
       "      <td>-161</td>\n",
       "      <td>...</td>\n",
       "      <td>14029</td>\n",
       "      <td>32071</td>\n",
       "      <td>34</td>\n",
       "      <td>0</td>\n",
       "      <td>12</td>\n",
       "      <td>6</td>\n",
       "      <td>16</td>\n",
       "      <td>30.43</td>\n",
       "      <td>69.57</td>\n",
       "      <td>0.07</td>\n",
       "    </tr>\n",
       "    <tr>\n",
       "      <th>1</th>\n",
       "      <td>E06000002</td>\n",
       "      <td>Middlesbrough</td>\n",
       "      <td>E</td>\n",
       "      <td>141233</td>\n",
       "      <td>1663</td>\n",
       "      <td>1396</td>\n",
       "      <td>267</td>\n",
       "      <td>5109</td>\n",
       "      <td>6737</td>\n",
       "      <td>-1628</td>\n",
       "      <td>...</td>\n",
       "      <td>21181</td>\n",
       "      <td>40177</td>\n",
       "      <td>35</td>\n",
       "      <td>0</td>\n",
       "      <td>16</td>\n",
       "      <td>1</td>\n",
       "      <td>18</td>\n",
       "      <td>34.52</td>\n",
       "      <td>65.48</td>\n",
       "      <td>0.06</td>\n",
       "    </tr>\n",
       "    <tr>\n",
       "      <th>2</th>\n",
       "      <td>E06000003</td>\n",
       "      <td>Redcar and Cleveland</td>\n",
       "      <td>E</td>\n",
       "      <td>139159</td>\n",
       "      <td>1336</td>\n",
       "      <td>1523</td>\n",
       "      <td>-187</td>\n",
       "      <td>3951</td>\n",
       "      <td>4259</td>\n",
       "      <td>-308</td>\n",
       "      <td>...</td>\n",
       "      <td>24586</td>\n",
       "      <td>48128</td>\n",
       "      <td>27</td>\n",
       "      <td>0</td>\n",
       "      <td>6</td>\n",
       "      <td>0</td>\n",
       "      <td>21</td>\n",
       "      <td>33.81</td>\n",
       "      <td>66.19</td>\n",
       "      <td>0.04</td>\n",
       "    </tr>\n",
       "    <tr>\n",
       "      <th>3</th>\n",
       "      <td>E06000004</td>\n",
       "      <td>Stockton-on-Tees</td>\n",
       "      <td>E</td>\n",
       "      <td>183795</td>\n",
       "      <td>1938</td>\n",
       "      <td>1719</td>\n",
       "      <td>219</td>\n",
       "      <td>6269</td>\n",
       "      <td>5531</td>\n",
       "      <td>738</td>\n",
       "      <td>...</td>\n",
       "      <td>38433</td>\n",
       "      <td>61982</td>\n",
       "      <td>45</td>\n",
       "      <td>2</td>\n",
       "      <td>13</td>\n",
       "      <td>2</td>\n",
       "      <td>28</td>\n",
       "      <td>38.27</td>\n",
       "      <td>61.73</td>\n",
       "      <td>0.04</td>\n",
       "    </tr>\n",
       "    <tr>\n",
       "      <th>4</th>\n",
       "      <td>E06000005</td>\n",
       "      <td>Darlington</td>\n",
       "      <td>E</td>\n",
       "      <td>97894</td>\n",
       "      <td>1102</td>\n",
       "      <td>1173</td>\n",
       "      <td>-71</td>\n",
       "      <td>3815</td>\n",
       "      <td>3521</td>\n",
       "      <td>294</td>\n",
       "      <td>...</td>\n",
       "      <td>24172</td>\n",
       "      <td>30994</td>\n",
       "      <td>29</td>\n",
       "      <td>0</td>\n",
       "      <td>0</td>\n",
       "      <td>0</td>\n",
       "      <td>29</td>\n",
       "      <td>43.82</td>\n",
       "      <td>56.18</td>\n",
       "      <td>0.05</td>\n",
       "    </tr>\n",
       "  </tbody>\n",
       "</table>\n",
       "<p>5 rows × 181 columns</p>\n",
       "</div>"
      ],
      "text/plain": [
       "   Area_Code                Area_x country  population_2001  births_2002  \\\n",
       "0  E06000001            Hartlepool       E            90152         1017   \n",
       "1  E06000002         Middlesbrough       E           141233         1663   \n",
       "2  E06000003  Redcar and Cleveland       E           139159         1336   \n",
       "3  E06000004      Stockton-on-Tees       E           183795         1938   \n",
       "4  E06000005            Darlington       E            97894         1102   \n",
       "\n",
       "   deaths_2002  natchange_2002  internal_in_2002  internal_out_2002  \\\n",
       "0         1042             -25              2140               2301   \n",
       "1         1396             267              5109               6737   \n",
       "2         1523            -187              3951               4259   \n",
       "3         1719             219              6269               5531   \n",
       "4         1173             -71              3815               3521   \n",
       "\n",
       "   internal_net_2002      ...       Remain  Leave  Rejected_Ballots  \\\n",
       "0               -161      ...        14029  32071                34   \n",
       "1              -1628      ...        21181  40177                35   \n",
       "2               -308      ...        24586  48128                27   \n",
       "3                738      ...        38433  61982                45   \n",
       "4                294      ...        24172  30994                29   \n",
       "\n",
       "   No_official_mark  Voting_for_both_answers  Writing_or_mark  \\\n",
       "0                 0                       12                6   \n",
       "1                 0                       16                1   \n",
       "2                 0                        6                0   \n",
       "3                 2                       13                2   \n",
       "4                 0                        0                0   \n",
       "\n",
       "   Unmarked_or_void  Pct_Remain  Pct_Leave  Pct_Rejected  \n",
       "0                16       30.43      69.57          0.07  \n",
       "1                18       34.52      65.48          0.06  \n",
       "2                21       33.81      66.19          0.04  \n",
       "3                28       38.27      61.73          0.04  \n",
       "4                29       43.82      56.18          0.05  \n",
       "\n",
       "[5 rows x 181 columns]"
      ]
     },
     "execution_count": 27,
     "metadata": {},
     "output_type": "execute_result"
    }
   ],
   "source": [
    "immigration_referendum_df = pd.read_csv(\"data/immigration_referendum_df.csv\",index_col=\"Unnamed: 0\")\n",
    "immigration_referendum_df.head()"
   ]
  },
  {
   "cell_type": "code",
   "execution_count": 28,
   "metadata": {
    "collapsed": false,
    "run_control": {
     "read_only": false
    }
   },
   "outputs": [
    {
     "data": {
      "image/png": "[encoded data removed]",
      "text/plain": [
       "<matplotlib.figure.Figure at 0xae42314c>"
      ]
     },
     "metadata": {},
     "output_type": "display_data"
    }
   ],
   "source": [
    "plt.scatter(immigration_referendum_df['Pct_Leave'],\n",
    "            immigration_referendum_df['international_in_total'])\n",
    "plt.grid(True)\n"
   ]
  },
  {
   "cell_type": "code",
   "execution_count": 29,
   "metadata": {
    "collapsed": false,
    "run_control": {
     "read_only": false
    }
   },
   "outputs": [
    {
     "data": {
      "text/plain": [
       "(-0.48197796932292253, 1.4761092141475334e-23)"
      ]
     },
     "execution_count": 29,
     "metadata": {},
     "output_type": "execute_result"
    }
   ],
   "source": [
    "scipy.stats.pearsonr(immigration_referendum_df['international_in_total'],\n",
    "            immigration_referendum_df['Pct_Leave'])"
   ]
  },
  {
   "cell_type": "code",
   "execution_count": 30,
   "metadata": {
    "collapsed": false,
    "run_control": {
     "read_only": false
    }
   },
   "outputs": [
    {
     "data": {
      "text/plain": [
       "(-0.1937236147116527, 0.00014179526097094045)"
      ]
     },
     "execution_count": 30,
     "metadata": {},
     "output_type": "execute_result"
    }
   ],
   "source": [
    "scipy.stats.pearsonr(immigration_referendum_df['population_2014'],\n",
    "            immigration_referendum_df['Pct_Leave'])"
   ]
  },
  {
   "cell_type": "code",
   "execution_count": 31,
   "metadata": {
    "collapsed": false,
    "run_control": {
     "read_only": false
    }
   },
   "outputs": [
    {
     "data": {
      "image/png": "[encoded data removed]",
      "text/plain": [
       "<matplotlib.figure.Figure at 0xae7c480c>"
      ]
     },
     "metadata": {},
     "output_type": "display_data"
    }
   ],
   "source": [
    "plt.scatter(immigration_referendum_df['Pct_Leave'],\n",
    "            immigration_referendum_df['international_net_total'])\n",
    "plt.grid(True)\n",
    "plt.xlabel(\"Percentage of votes for the Leave option\")\n",
    "plt.ylabel(\"Net international immigration figures over 2001-2014\")\n",
    "plt.title(\"% of leave votes against net immigration figures 2001-2014\")\n",
    "plt.savefig(\"initial plot\")"
   ]
  },
  {
   "cell_type": "code",
   "execution_count": 32,
   "metadata": {
    "collapsed": false,
    "run_control": {
     "read_only": false
    }
   },
   "outputs": [
    {
     "data": {
      "text/plain": [
       "(-0.37106313080621045, 6.9894322280490726e-14)"
      ]
     },
     "execution_count": 32,
     "metadata": {},
     "output_type": "execute_result"
    }
   ],
   "source": [
    "scipy.stats.pearsonr(immigration_referendum_df['international_net_total'],\n",
    "            immigration_referendum_df['Pct_Leave'])"
   ]
  },
  {
   "cell_type": "markdown",
   "metadata": {},
   "source": [
    "From the Pearson's *R*² test we perceive that the there seems to be a moderate negative correlation (-0.37...) between the number of accumulate immigrants during the last decade and the likelihood for the district to vote for the leave option."
   ]
  }
 ],
 "metadata": {
  "kernelspec": {
   "display_name": "Python 3",
   "language": "python",
   "name": "python3"
  },
  "language_info": {
   "codemirror_mode": {
    "name": "ipython",
    "version": 3
   },
   "file_extension": ".py",
   "mimetype": "text/x-python",
   "name": "python",
   "nbconvert_exporter": "python",
   "pygments_lexer": "ipython3",
   "version": "3.4.3"
  }
 },
 "nbformat": 4,
 "nbformat_minor": 0
}
